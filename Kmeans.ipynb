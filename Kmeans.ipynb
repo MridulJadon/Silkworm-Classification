{
 "cells": [
  {
   "cell_type": "markdown",
   "id": "ebe75acb-7c98-46ce-9da2-916ba9bb5c9f",
   "metadata": {
    "tags": []
   },
   "source": [
    "# Importing required Libraries"
   ]
  },
  {
   "cell_type": "code",
   "execution_count": 8,
   "id": "a45091cc-4991-4b99-b007-b6450ff8adb5",
   "metadata": {},
   "outputs": [],
   "source": [
    "import os\n",
    "from imutils import paths\n",
    "from keras.preprocessing.image import ImageDataGenerator, array_to_img, img_to_array, load_img\n",
    "import matplotlib.pyplot as plt\n",
    "import pandas as pd\n",
    "import numpy as np\n",
    "from scipy import ndimage\n",
    "import cv2\n",
    "\n",
    "from sklearn.cluster import KMeans\n",
    "from sklearn.metrics import accuracy_score\n",
    "from sklearn.metrics import confusion_matrix"
   ]
  },
  {
   "cell_type": "markdown",
   "id": "294230d8-a4bb-4665-acea-e256150896c5",
   "metadata": {},
   "source": [
    "# Importing Dataset & Data Augmentation"
   ]
  },
  {
   "cell_type": "code",
   "execution_count": 147,
   "id": "6a959799-c753-4314-9dda-1f0ccda53116",
   "metadata": {},
   "outputs": [],
   "source": [
    "data = []\n",
    "label = []\n",
    "# path = \"C:/Users/Dikshant Gupta/Desktop/Micro Silkworm Prj/JPEGImages_xray_Kmean/Train/\"\n",
    "path = \"C:/Users/Dikshant Gupta/Desktop/Micro Silkworm Prj/xray_extracted/\"\n",
    "c = 0\n",
    "d = 0\n",
    "IMG_SIZE = 200\n",
    "for file in os.listdir(path):\n",
    "    img=cv2.imread(path+file)\n",
    "    img=cv2.resize(img,(IMG_SIZE,IMG_SIZE))\n",
    "    img=img.astype('float32')\n",
    "    data.append(img)\n",
    "data = np.array(data)"
   ]
  },
  {
   "cell_type": "code",
   "execution_count": 148,
   "id": "dfd6fb9d-eaa8-4f06-8444-5bd90af24de3",
   "metadata": {},
   "outputs": [],
   "source": [
    "data = data/255.0\n",
    "reshaped_data = data.reshape(len(data),-1)"
   ]
  },
  {
   "cell_type": "code",
   "execution_count": 149,
   "id": "38425e23-21bf-4c81-bf50-8f6acb2d4bf0",
   "metadata": {},
   "outputs": [
    {
     "data": {
      "text/plain": [
       "(38, 120000)"
      ]
     },
     "execution_count": 149,
     "metadata": {},
     "output_type": "execute_result"
    }
   ],
   "source": [
    "reshaped_data.shape"
   ]
  },
  {
   "cell_type": "code",
   "execution_count": 154,
   "id": "a7523e04-d155-42c1-9fb6-3338182d277d",
   "metadata": {},
   "outputs": [
    {
     "name": "stdout",
     "output_type": "stream",
     "text": [
      "38\n"
     ]
    }
   ],
   "source": [
    "# data_label = [0,0,0,0,0,0,0,0,0,0,0,0,0,0,0,0,0,0,0,0,0,0,0,0,0,1,1,1,1,1,1,1,1,1,1,1,1,1,1]7069\n",
    "data_label = [0,0,0,0,0,1,0,0,0,0,0,0,0,1,0,1,0,0,0,0,0,0,0,0,0,0,0,0,1,0,0,0,1,0,0,0,0,0]\n",
    "data_label = np.array(data_label)\n",
    "print(len(data_label))"
   ]
  },
  {
   "cell_type": "markdown",
   "id": "458ff8cd-f762-40d2-8b94-ec0231ddad86",
   "metadata": {},
   "source": [
    "# Model Training (K Means -> normal method)"
   ]
  },
  {
   "cell_type": "code",
   "execution_count": 155,
   "id": "a0ee8593-1786-49b0-87ae-c6206593e0d6",
   "metadata": {},
   "outputs": [],
   "source": [
    "# # Tested random_state = 0/1, \n",
    "# kmeans = KMeans(n_clusters=7, random_state=0)"
   ]
  },
  {
   "cell_type": "code",
   "execution_count": 156,
   "id": "2bb459ef-cb95-4635-a728-205c43e1f404",
   "metadata": {},
   "outputs": [],
   "source": [
    "# clusters = kmeans.fit_predict(reshaped_data)"
   ]
  },
  {
   "cell_type": "code",
   "execution_count": 157,
   "id": "75792751-d669-4a52-aef1-c38851502305",
   "metadata": {},
   "outputs": [],
   "source": [
    "# kmeans.cluster_centers_.shape"
   ]
  },
  {
   "cell_type": "code",
   "execution_count": 158,
   "id": "eb395ca5-a978-4d3e-b502-ac3735279cfd",
   "metadata": {},
   "outputs": [],
   "source": [
    "# x_data = [i for i in range(120000)]\n",
    "# plt.scatter(x_data,kmeans.cluster_centers_[0], color = 'red',alpha=0.2)\n",
    "# plt.scatter(x_data,kmeans.cluster_centers_[1] , color = 'blue',alpha=0.2)\n",
    "# plt.scatter(x_data,kmeans.cluster_centers_[2] , color = 'green',alpha=0.2)\n",
    "# plt.scatter(x_data,kmeans.cluster_centers_[3] , color = 'yellow',alpha=0.2)\n",
    "# plt.scatter(x_data,kmeans.cluster_centers_[4] , color = 'pink',alpha=0.2)\n",
    "# plt.scatter(x_data,kmeans.cluster_centers_[5] , color = 'yellow',alpha=0.2)\n",
    "# plt.scatter(x_data,kmeans.cluster_centers_[6] , color = 'black',alpha=0.2)"
   ]
  },
  {
   "cell_type": "markdown",
   "id": "29bac81e-3ef2-4877-a670-496e19385c14",
   "metadata": {},
   "source": [
    "# Label Mapping"
   ]
  },
  {
   "cell_type": "code",
   "execution_count": 159,
   "id": "d9aec323-e889-40ad-82d8-8baf651a4dd5",
   "metadata": {},
   "outputs": [],
   "source": [
    "# mapping labels from cluster to original labels\n",
    "def get_reference_dict(clusters,data_label):\n",
    "    reference_label = {}\n",
    "    # For loop to run through each label of cluster label\n",
    "    for i in range(len(np.unique(clusters))):\n",
    "        index = np.where(clusters == i,1,0)\n",
    "        num = np.bincount(data_label[index==1]).argmax()\n",
    "        reference_label[i] = num\n",
    "    return reference_label\n",
    "# Mapping predictions to original labels\n",
    "def get_labels(clusters,refernce_labels):\n",
    "    temp_labels = np.random.rand(len(clusters))\n",
    "    for i in range(len(clusters)):\n",
    "        temp_labels[i] = reference_labels[clusters[i]]\n",
    "    return temp_labels"
   ]
  },
  {
   "cell_type": "markdown",
   "id": "39ae642b-95be-407c-999a-62a58e801f51",
   "metadata": {},
   "source": [
    "# Model Training (K Means -> elbow method)"
   ]
  },
  {
   "cell_type": "code",
   "execution_count": 175,
   "id": "301cdde1-1679-46a9-a932-0ee7c95693da",
   "metadata": {},
   "outputs": [
    {
     "name": "stdout",
     "output_type": "stream",
     "text": [
      "Accuracy for k = 11:  0.868421052631579\n"
     ]
    }
   ],
   "source": [
    "sse = []\n",
    "list_k = [11]\n",
    "for k in list_k:\n",
    "    km = KMeans(n_clusters=k, random_state=5)\n",
    "    clusters = km.fit_predict(reshaped_data)\n",
    "    sse.append(km.inertia_)\n",
    "    reference_labels = get_reference_dict(clusters,data_label)\n",
    "    predicted_labels = get_labels(clusters,reference_labels)\n",
    "    print(f\"Accuracy for k = {k}: \", accuracy_score(predicted_labels,data_label))"
   ]
  },
  {
   "cell_type": "code",
   "execution_count": 2,
   "id": "4fc22443-c902-4d38-b807-07c832604977",
   "metadata": {},
   "outputs": [],
   "source": [
    "# km.labels_\n",
    "# len(km.labels_)\n",
    "# 0(4)1(6)2(5)3(2)4(2)5(3)6(6)7(3)8(2)9(4)10(1)"
   ]
  },
  {
   "cell_type": "code",
   "execution_count": 164,
   "id": "7ccecfee-5fa3-464f-83fd-82ed24c599a2",
   "metadata": {},
   "outputs": [],
   "source": [
    "# # Plot sse against k\n",
    "# plt.figure(figsize=(6, 6))\n",
    "# plt.plot(list_k, sse, '-o')\n",
    "# plt.xlabel(r'Number of clusters *k*')\n",
    "# plt.ylabel('Sum of squared distance')"
   ]
  },
  {
   "cell_type": "code",
   "execution_count": 165,
   "id": "c65672c1-e929-4a40-b923-f22d46174b2a",
   "metadata": {},
   "outputs": [],
   "source": [
    "# # a = km.cluster_centers_ * 255\n",
    "# # np.savetxt(\"centroids_1.1.csv\", a)\n",
    "# centers = np.array(km.cluster_centers_)\n",
    "# print(centers)\n",
    "# print()\n",
    "# # centers.shape\n",
    "# print(centers[:,119999])\n",
    "# print(centers[:,0])"
   ]
  },
  {
   "cell_type": "code",
   "execution_count": 3,
   "id": "a1c946ff-6071-45fc-ad0b-85eaec470c9a",
   "metadata": {},
   "outputs": [],
   "source": [
    "# plt.scatter(centers[:,119998], centers[:,119999], marker=\"x\", color='r')\n",
    "# plt.show()"
   ]
  },
  {
   "cell_type": "code",
   "execution_count": 171,
   "id": "de9297ed-29c9-4ea2-9878-df64db0f5b88",
   "metadata": {},
   "outputs": [],
   "source": [
    "# def predict(data, centroids):\n",
    "#     # centroids, data = np.array(centroids), np.array(data)\n",
    "#     distances = []\n",
    "#     for unit in data:\n",
    "#         for center in centroids:\n",
    "#             distances.append(np.sum((unit - center) ** 2))                \n",
    "#     distances = np.reshape(distances, data.shape)\n",
    "#     closest_centroid = [np.argmin(dist) for dist in distances]\n",
    "#     print(closest_centroid)"
   ]
  },
  {
   "cell_type": "code",
   "execution_count": 172,
   "id": "0eee2a6b-0cac-49b2-b95d-bca9650f280e",
   "metadata": {},
   "outputs": [],
   "source": [
    "# import numpy as np\n",
    "# from keras.preprocessing import image\n",
    "\n",
    "# path = 'C:/Users/Dikshant Gupta/Desktop/Micro Silkworm Prj/JPEGImages_xray_Kmean/Test/'\n",
    "\n",
    "# # print(img)\n",
    "# # plt.imshow(img)\n",
    "# # plt.show()\n",
    "\n",
    "# for file in os.listdir(path):\n",
    "#     img=cv2.imread(path+file)\n",
    "#     img=cv2.resize(img,(200,200))\n",
    "#     img=img.astype('float32')\n",
    "\n",
    "#     img_data = np.array(img)\n",
    "#     img_data = img_data/255.0\n",
    "#     img_reshape = img_data.reshape(len(img_data),-1)\n",
    "    \n",
    "#     # print(img_reshape.shape)\n",
    "    \n",
    "#     predict(img_reshape,centers)\n",
    "#     break"
   ]
  },
  {
   "cell_type": "code",
   "execution_count": 174,
   "id": "f687b1b3-8a9e-440c-a2dd-6c358eda7053",
   "metadata": {},
   "outputs": [],
   "source": [
    "# save the model\n",
    "import pickle\n",
    "pickle.dump(km, open(\"km2_86_acc.pkl\", \"wb\"))"
   ]
  },
  {
   "cell_type": "code",
   "execution_count": null,
   "id": "8471ccbc-ed1c-49b6-9087-717d595a4002",
   "metadata": {},
   "outputs": [],
   "source": [
    "# # load the model\n",
    "# model = pickle.load(open(\"km1.pkl\", \"rb\"))"
   ]
  },
  {
   "cell_type": "code",
   "execution_count": null,
   "id": "f87f2bc8-277a-4493-95e1-ce1bf0f47c70",
   "metadata": {},
   "outputs": [],
   "source": [
    "# # use model to predict\n",
    "# y_pred = model.predict(X_input)"
   ]
  }
 ],
 "metadata": {
  "kernelspec": {
   "display_name": "Python 3 (ipykernel)",
   "language": "python",
   "name": "python3"
  },
  "language_info": {
   "codemirror_mode": {
    "name": "ipython",
    "version": 3
   },
   "file_extension": ".py",
   "mimetype": "text/x-python",
   "name": "python",
   "nbconvert_exporter": "python",
   "pygments_lexer": "ipython3",
   "version": "3.9.6"
  }
 },
 "nbformat": 4,
 "nbformat_minor": 5
}
