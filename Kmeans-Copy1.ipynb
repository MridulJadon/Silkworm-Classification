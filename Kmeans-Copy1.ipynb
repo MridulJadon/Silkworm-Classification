{
 "cells": [
  {
   "cell_type": "markdown",
   "id": "ebe75acb-7c98-46ce-9da2-916ba9bb5c9f",
   "metadata": {
    "tags": []
   },
   "source": [
    "# Importing required Libraries"
   ]
  },
  {
   "cell_type": "code",
   "execution_count": 8,
   "id": "a45091cc-4991-4b99-b007-b6450ff8adb5",
   "metadata": {},
   "outputs": [],
   "source": [
    "import os\n",
    "from imutils import paths\n",
    "from keras.preprocessing.image import ImageDataGenerator, array_to_img, img_to_array, load_img\n",
    "import matplotlib.pyplot as plt\n",
    "import pandas as pd\n",
    "import numpy as np\n",
    "from scipy import ndimage\n",
    "import cv2\n",
    "\n",
    "from sklearn.cluster import KMeans\n",
    "from sklearn.metrics import accuracy_score\n",
    "from sklearn.metrics import confusion_matrix"
   ]
  },
  {
   "cell_type": "markdown",
   "id": "294230d8-a4bb-4665-acea-e256150896c5",
   "metadata": {},
   "source": [
    "# Importing Dataset & Data Normalization"
   ]
  },
  {
   "cell_type": "code",
   "execution_count": 147,
   "id": "6a959799-c753-4314-9dda-1f0ccda53116",
   "metadata": {},
   "outputs": [],
   "source": [
    "data = []\n",
    "label = []\n",
    "# path = \"C:/Users/Dikshant Gupta/Desktop/Micro Silkworm Prj/JPEGImages_xray_Kmean/Train/\"\n",
    "path = \"C:/Users/Dikshant Gupta/Desktop/Micro Silkworm Prj/xray_extracted/\"\n",
    "c = 0\n",
    "d = 0\n",
    "IMG_SIZE = 200\n",
    "for file in os.listdir(path):\n",
    "    img=cv2.imread(path+file)\n",
    "    img=cv2.resize(img,(IMG_SIZE,IMG_SIZE))\n",
    "    img=img.astype('float32')\n",
    "    data.append(img)\n",
    "data = np.array(data)"
   ]
  },
  {
   "cell_type": "code",
   "execution_count": 148,
   "id": "dfd6fb9d-eaa8-4f06-8444-5bd90af24de3",
   "metadata": {},
   "outputs": [],
   "source": [
    "data = data/255.0\n",
    "reshaped_data = data.reshape(len(data),-1)"
   ]
  },
  {
   "cell_type": "code",
   "execution_count": 149,
   "id": "38425e23-21bf-4c81-bf50-8f6acb2d4bf0",
   "metadata": {},
   "outputs": [
    {
     "data": {
      "text/plain": [
       "(38, 120000)"
      ]
     },
     "execution_count": 149,
     "metadata": {},
     "output_type": "execute_result"
    }
   ],
   "source": [
    "reshaped_data.shape"
   ]
  },
  {
   "cell_type": "code",
   "execution_count": 154,
   "id": "a7523e04-d155-42c1-9fb6-3338182d277d",
   "metadata": {},
   "outputs": [
    {
     "name": "stdout",
     "output_type": "stream",
     "text": [
      "38\n"
     ]
    }
   ],
   "source": [
    "# data_label = [0,0,0,0,0,0,0,0,0,0,0,0,0,0,0,0,0,0,0,0,0,0,0,0,0,1,1,1,1,1,1,1,1,1,1,1,1,1,1]7069\n",
    "data_label = [0,0,0,0,0,1,0,0,0,0,0,0,0,1,0,1,0,0,0,0,0,0,0,0,0,0,0,0,1,0,0,0,1,0,0,0,0,0]\n",
    "data_label = np.array(data_label)\n",
    "print(len(data_label))"
   ]
  },
  {
   "cell_type": "markdown",
   "id": "29bac81e-3ef2-4877-a670-496e19385c14",
   "metadata": {},
   "source": [
    "# Label Mapping"
   ]
  },
  {
   "cell_type": "code",
   "execution_count": 2,
   "id": "d9aec323-e889-40ad-82d8-8baf651a4dd5",
   "metadata": {},
   "outputs": [],
   "source": [
    "# mapping labels from cluster to original labels\n",
    "def get_reference_dict(clusters,data_label):\n",
    "    reference_label = {}\n",
    "    for i in range(len(np.unique(clusters))):\n",
    "        index = np.where(clusters == i,1,0)\n",
    "        num = np.bincount(data_label[index==1]).argmax()\n",
    "        reference_label[i] = num\n",
    "    return reference_label\n",
    "# Mapping predictions to original labels\n",
    "def get_labels(clusters,refernce_labels):\n",
    "    temp_labels = np.random.rand(len(clusters))\n",
    "    for i in range(len(clusters)):\n",
    "        temp_labels[i] = reference_labels[clusters[i]]\n",
    "    return temp_labels"
   ]
  },
  {
   "cell_type": "markdown",
   "id": "39ae642b-95be-407c-999a-62a58e801f51",
   "metadata": {},
   "source": [
    "# Model Training"
   ]
  },
  {
   "cell_type": "code",
   "execution_count": 175,
   "id": "301cdde1-1679-46a9-a932-0ee7c95693da",
   "metadata": {},
   "outputs": [
    {
     "name": "stdout",
     "output_type": "stream",
     "text": [
      "Accuracy for k = 11:  0.868421052631579\n"
     ]
    }
   ],
   "source": [
    "sse = []\n",
    "list_k = [11]\n",
    "for k in list_k:\n",
    "    km = KMeans(n_clusters=k, random_state=5)\n",
    "    clusters = km.fit_predict(reshaped_data)\n",
    "    sse.append(km.inertia_)\n",
    "    reference_labels = get_reference_dict(clusters,data_label)\n",
    "    predicted_labels = get_labels(clusters,reference_labels)\n",
    "    print(f\"Accuracy for k = {k}: \", accuracy_score(predicted_labels,data_label))"
   ]
  },
  {
   "cell_type": "code",
   "execution_count": 1,
   "id": "f687b1b3-8a9e-440c-a2dd-6c358eda7053",
   "metadata": {},
   "outputs": [],
   "source": [
    "# # save the model\n",
    "# import pickle\n",
    "# pickle.dump(km, open(\"km2_86_acc.pkl\", \"wb\"))"
   ]
  },
  {
   "cell_type": "code",
   "execution_count": null,
   "id": "70f4d183-86a2-4a68-8e09-fbb7f8b21ed9",
   "metadata": {},
   "outputs": [],
   "source": []
  }
 ],
 "metadata": {
  "kernelspec": {
   "display_name": "Python 3 (ipykernel)",
   "language": "python",
   "name": "python3"
  },
  "language_info": {
   "codemirror_mode": {
    "name": "ipython",
    "version": 3
   },
   "file_extension": ".py",
   "mimetype": "text/x-python",
   "name": "python",
   "nbconvert_exporter": "python",
   "pygments_lexer": "ipython3",
   "version": "3.9.12"
  }
 },
 "nbformat": 4,
 "nbformat_minor": 5
}
