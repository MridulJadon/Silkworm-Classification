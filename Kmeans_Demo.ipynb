{
 "cells": [
  {
   "cell_type": "code",
   "execution_count": 1,
   "id": "f261102b-47f2-40fa-8b76-45297ebcd62e",
   "metadata": {},
   "outputs": [],
   "source": [
    "import tensorflow as tf\n",
    "import os\n",
    "import keras\n",
    "import numpy as np\n",
    "from keras.preprocessing import image\n",
    "import matplotlib.pyplot as plt\n",
    "import pandas as pd\n",
    "from sklearn import metrics\n",
    "from sklearn.metrics import ConfusionMatrixDisplay\n",
    "import numpy as np\n",
    "import matplotlib.pyplot as plt\n",
    "from ipywidgets import interactive\n",
    "import csv\n",
    "import pickle\n",
    "import cv2\n",
    "%matplotlib inline"
   ]
  },
  {
   "cell_type": "code",
   "execution_count": 2,
   "id": "45cd2421-01d7-4110-8eff-fc757752af99",
   "metadata": {},
   "outputs": [],
   "source": [
    "unsup_model = pickle.load(open(\"km1.pkl\", \"rb\"))"
   ]
  },
  {
   "cell_type": "code",
   "execution_count": 3,
   "id": "0d33abac-5de4-4ae3-81ec-f5cba063556f",
   "metadata": {},
   "outputs": [
    {
     "name": "stdout",
     "output_type": "stream",
     "text": [
      "[[0.1254902  0.1254902  0.1254902  ... 0.09019608 0.09019608 0.09019608]\n",
      " [0.11372549 0.11372549 0.11372549 ... 0.09411765 0.09411765 0.09411765]\n",
      " [0.08627451 0.08627451 0.08627451 ... 0.10588235 0.10588235 0.10588235]\n",
      " ...\n",
      " [0.12156863 0.12156863 0.12156863 ... 0.11764706 0.11764706 0.11764706]\n",
      " [0.08627451 0.08627451 0.08627451 ... 0.11372549 0.11372549 0.11372549]\n",
      " [0.06666667 0.06666667 0.06666667 ... 0.10588235 0.10588235 0.10588235]]\n"
     ]
    }
   ],
   "source": [
    "import numpy as np\n",
    "from keras.preprocessing import image\n",
    "\n",
    "path = 'C:/Users/Dikshant Gupta/Desktop/Micro Silkworm Prj/JPEGImages_xray_Kmean/Test/'\n",
    "\n",
    "# print(img)\n",
    "# plt.imshow(img)\n",
    "# plt.show()\n",
    "\n",
    "for file in os.listdir(path):\n",
    "    img=cv2.imread(path+file)\n",
    "    img=cv2.resize(img,(200,200))\n",
    "    img=img.astype('float32')\n",
    "\n",
    "    img_data = np.array(img)\n",
    "    img_data = img_data/255.0\n",
    "    img_reshape = img_data.reshape(len(img_data),-1)\n",
    "    print(img_reshape)\n",
    "\n",
    "    # result = unsup_model.predict(img_reshape)\n",
    "    # print(result)\n",
    "    break"
   ]
  },
  {
   "cell_type": "code",
   "execution_count": 19,
   "id": "1f4b8bf9-1d5c-4fa3-a8d9-9f53a016e502",
   "metadata": {},
   "outputs": [],
   "source": [
    "# from sklearn.cluster import KMeans\n",
    "# from sklearn import metrics\n",
    "# import numpy as np\n",
    "# import matplotlib.pyplot as plt\n",
    "\n",
    "# x1 = np.array([3, 1, 1, 2, 1, 6, 6, 6, 5, 6, 7, 8, 9, 8, 9, 9, 8])\n",
    "# x2 = np.array([5, 4, 6, 6, 5, 8, 6, 7, 6, 7, 1, 2, 1, 2, 3, 2, 3])\n",
    "\n",
    "# # create new plot and data\n",
    "# plt.plot()\n",
    "# X = np.array(list(zip(x1, x2))).reshape(len(x1), 2)\n",
    "# colors = ['b', 'g', 'c']\n",
    "# markers = ['o', 'v', 's']\n",
    "\n",
    "# # KMeans algorithm \n",
    "# K = 3\n",
    "# kmeans_model = KMeans(n_clusters=K).fit(X)\n",
    "\n",
    "# print(kmeans_model.cluster_centers_)\n",
    "# centers = np.array(kmeans_model.cluster_centers_)\n",
    "\n",
    "# plt.plot()\n",
    "# plt.title('k means centroids')\n",
    "\n",
    "# for i, l in enumerate(kmeans_model.labels_):\n",
    "#     plt.plot(x1[i], x2[i], color=colors[l], marker=markers[l],ls='None')\n",
    "#     plt.xlim([0, 10])\n",
    "#     plt.ylim([0, 10])\n",
    "\n",
    "# plt.scatter(centers[:,0], centers[:,1], marker=\"x\", color='r')\n",
    "# plt.show()"
   ]
  },
  {
   "cell_type": "code",
   "execution_count": null,
   "id": "8dfb6c46-f673-4a6b-8981-e23bf1c59c5d",
   "metadata": {},
   "outputs": [],
   "source": []
  }
 ],
 "metadata": {
  "kernelspec": {
   "display_name": "Python 3 (ipykernel)",
   "language": "python",
   "name": "python3"
  },
  "language_info": {
   "codemirror_mode": {
    "name": "ipython",
    "version": 3
   },
   "file_extension": ".py",
   "mimetype": "text/x-python",
   "name": "python",
   "nbconvert_exporter": "python",
   "pygments_lexer": "ipython3",
   "version": "3.9.12"
  }
 },
 "nbformat": 4,
 "nbformat_minor": 5
}
